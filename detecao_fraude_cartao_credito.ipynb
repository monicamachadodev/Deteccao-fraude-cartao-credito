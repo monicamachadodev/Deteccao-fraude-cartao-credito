{
 "cells": [
  {
   "cell_type": "code",
   "execution_count": 1,
   "id": "a75163bc",
   "metadata": {},
   "outputs": [],
   "source": [
    "# All Libraries required for this lab are listed below. The libraries pre-installed on Skills Network Labs are commented.\n",
    "# !mamba install -qy pandas==1.3.4 numpy==1.21.4 seaborn==0.9.0 matplotlib==3.5.0 scikit-learn==0.20.1\n",
    "# Note: If your environment doesn't support \"!mamba install\", use \"!pip install\""
   ]
  },
  {
   "cell_type": "code",
   "execution_count": 2,
   "id": "dd4ed6aa",
   "metadata": {},
   "outputs": [
    {
     "name": "stdout",
     "output_type": "stream",
     "text": [
      "Requirement already satisfied: snapml in /home/gustavo/anaconda3/lib/python3.11/site-packages (1.14.2)\n",
      "Requirement already satisfied: scikit-learn in /home/gustavo/anaconda3/lib/python3.11/site-packages (from snapml) (1.3.0)\n",
      "Requirement already satisfied: scipy in /home/gustavo/anaconda3/lib/python3.11/site-packages (from snapml) (1.10.1)\n",
      "Requirement already satisfied: numpy>=1.23.2 in /home/gustavo/anaconda3/lib/python3.11/site-packages (from snapml) (1.24.3)\n",
      "Requirement already satisfied: joblib>=1.1.1 in /home/gustavo/anaconda3/lib/python3.11/site-packages (from scikit-learn->snapml) (1.2.0)\n",
      "Requirement already satisfied: threadpoolctl>=2.0.0 in /home/gustavo/anaconda3/lib/python3.11/site-packages (from scikit-learn->snapml) (2.2.0)\n",
      "Requirement already satisfied: skillsnetwork in /home/gustavo/anaconda3/lib/python3.11/site-packages (0.20.6)\n",
      "Requirement already satisfied: ipython in /home/gustavo/anaconda3/lib/python3.11/site-packages (from skillsnetwork) (8.12.0)\n",
      "Requirement already satisfied: ipywidgets<8,>=7 in /home/gustavo/anaconda3/lib/python3.11/site-packages (from skillsnetwork) (7.8.1)\n",
      "Requirement already satisfied: requests<3,>=2 in /home/gustavo/anaconda3/lib/python3.11/site-packages (from skillsnetwork) (2.31.0)\n",
      "Requirement already satisfied: tqdm<5,>=4 in /home/gustavo/anaconda3/lib/python3.11/site-packages (from skillsnetwork) (4.65.0)\n",
      "Requirement already satisfied: comm>=0.1.3 in /home/gustavo/anaconda3/lib/python3.11/site-packages (from ipywidgets<8,>=7->skillsnetwork) (0.2.0)\n",
      "Requirement already satisfied: ipython-genutils~=0.2.0 in /home/gustavo/anaconda3/lib/python3.11/site-packages (from ipywidgets<8,>=7->skillsnetwork) (0.2.0)\n",
      "Requirement already satisfied: traitlets>=4.3.1 in /home/gustavo/anaconda3/lib/python3.11/site-packages (from ipywidgets<8,>=7->skillsnetwork) (5.7.1)\n",
      "Requirement already satisfied: widgetsnbextension~=3.6.6 in /home/gustavo/anaconda3/lib/python3.11/site-packages (from ipywidgets<8,>=7->skillsnetwork) (3.6.6)\n",
      "Requirement already satisfied: jupyterlab-widgets<3,>=1.0.0 in /home/gustavo/anaconda3/lib/python3.11/site-packages (from ipywidgets<8,>=7->skillsnetwork) (1.1.7)\n",
      "Requirement already satisfied: backcall in /home/gustavo/anaconda3/lib/python3.11/site-packages (from ipython->skillsnetwork) (0.2.0)\n",
      "Requirement already satisfied: decorator in /home/gustavo/anaconda3/lib/python3.11/site-packages (from ipython->skillsnetwork) (5.1.1)\n",
      "Requirement already satisfied: jedi>=0.16 in /home/gustavo/anaconda3/lib/python3.11/site-packages (from ipython->skillsnetwork) (0.18.1)\n",
      "Requirement already satisfied: matplotlib-inline in /home/gustavo/anaconda3/lib/python3.11/site-packages (from ipython->skillsnetwork) (0.1.6)\n",
      "Requirement already satisfied: pickleshare in /home/gustavo/anaconda3/lib/python3.11/site-packages (from ipython->skillsnetwork) (0.7.5)\n",
      "Requirement already satisfied: prompt-toolkit!=3.0.37,<3.1.0,>=3.0.30 in /home/gustavo/anaconda3/lib/python3.11/site-packages (from ipython->skillsnetwork) (3.0.36)\n",
      "Requirement already satisfied: pygments>=2.4.0 in /home/gustavo/anaconda3/lib/python3.11/site-packages (from ipython->skillsnetwork) (2.15.1)\n",
      "Requirement already satisfied: stack-data in /home/gustavo/anaconda3/lib/python3.11/site-packages (from ipython->skillsnetwork) (0.2.0)\n",
      "Requirement already satisfied: pexpect>4.3 in /home/gustavo/anaconda3/lib/python3.11/site-packages (from ipython->skillsnetwork) (4.8.0)\n",
      "Requirement already satisfied: charset-normalizer<4,>=2 in /home/gustavo/anaconda3/lib/python3.11/site-packages (from requests<3,>=2->skillsnetwork) (2.0.4)\n",
      "Requirement already satisfied: idna<4,>=2.5 in /home/gustavo/anaconda3/lib/python3.11/site-packages (from requests<3,>=2->skillsnetwork) (3.4)\n",
      "Requirement already satisfied: urllib3<3,>=1.21.1 in /home/gustavo/anaconda3/lib/python3.11/site-packages (from requests<3,>=2->skillsnetwork) (1.26.16)\n",
      "Requirement already satisfied: certifi>=2017.4.17 in /home/gustavo/anaconda3/lib/python3.11/site-packages (from requests<3,>=2->skillsnetwork) (2023.7.22)\n",
      "Requirement already satisfied: parso<0.9.0,>=0.8.0 in /home/gustavo/anaconda3/lib/python3.11/site-packages (from jedi>=0.16->ipython->skillsnetwork) (0.8.3)\n",
      "Requirement already satisfied: ptyprocess>=0.5 in /home/gustavo/anaconda3/lib/python3.11/site-packages (from pexpect>4.3->ipython->skillsnetwork) (0.7.0)\n",
      "Requirement already satisfied: wcwidth in /home/gustavo/anaconda3/lib/python3.11/site-packages (from prompt-toolkit!=3.0.37,<3.1.0,>=3.0.30->ipython->skillsnetwork) (0.2.5)\n",
      "Requirement already satisfied: notebook>=4.4.1 in /home/gustavo/anaconda3/lib/python3.11/site-packages (from widgetsnbextension~=3.6.6->ipywidgets<8,>=7->skillsnetwork) (6.5.4)\n",
      "Requirement already satisfied: executing in /home/gustavo/anaconda3/lib/python3.11/site-packages (from stack-data->ipython->skillsnetwork) (0.8.3)\n",
      "Requirement already satisfied: asttokens in /home/gustavo/anaconda3/lib/python3.11/site-packages (from stack-data->ipython->skillsnetwork) (2.0.5)\n",
      "Requirement already satisfied: pure-eval in /home/gustavo/anaconda3/lib/python3.11/site-packages (from stack-data->ipython->skillsnetwork) (0.2.2)\n",
      "Requirement already satisfied: jinja2 in /home/gustavo/anaconda3/lib/python3.11/site-packages (from notebook>=4.4.1->widgetsnbextension~=3.6.6->ipywidgets<8,>=7->skillsnetwork) (3.1.2)\n",
      "Requirement already satisfied: tornado>=6.1 in /home/gustavo/anaconda3/lib/python3.11/site-packages (from notebook>=4.4.1->widgetsnbextension~=3.6.6->ipywidgets<8,>=7->skillsnetwork) (6.3.2)\n",
      "Requirement already satisfied: pyzmq>=17 in /home/gustavo/anaconda3/lib/python3.11/site-packages (from notebook>=4.4.1->widgetsnbextension~=3.6.6->ipywidgets<8,>=7->skillsnetwork) (23.2.0)\n",
      "Requirement already satisfied: argon2-cffi in /home/gustavo/anaconda3/lib/python3.11/site-packages (from notebook>=4.4.1->widgetsnbextension~=3.6.6->ipywidgets<8,>=7->skillsnetwork) (21.3.0)\n",
      "Requirement already satisfied: jupyter-core>=4.6.1 in /home/gustavo/anaconda3/lib/python3.11/site-packages (from notebook>=4.4.1->widgetsnbextension~=3.6.6->ipywidgets<8,>=7->skillsnetwork) (5.3.0)\n",
      "Requirement already satisfied: jupyter-client>=5.3.4 in /home/gustavo/anaconda3/lib/python3.11/site-packages (from notebook>=4.4.1->widgetsnbextension~=3.6.6->ipywidgets<8,>=7->skillsnetwork) (7.4.9)\n",
      "Requirement already satisfied: nbformat in /home/gustavo/anaconda3/lib/python3.11/site-packages (from notebook>=4.4.1->widgetsnbextension~=3.6.6->ipywidgets<8,>=7->skillsnetwork) (5.7.0)\n",
      "Requirement already satisfied: nbconvert>=5 in /home/gustavo/anaconda3/lib/python3.11/site-packages (from notebook>=4.4.1->widgetsnbextension~=3.6.6->ipywidgets<8,>=7->skillsnetwork) (7.10.0)\n",
      "Requirement already satisfied: nest-asyncio>=1.5 in /home/gustavo/anaconda3/lib/python3.11/site-packages (from notebook>=4.4.1->widgetsnbextension~=3.6.6->ipywidgets<8,>=7->skillsnetwork) (1.5.6)\n",
      "Requirement already satisfied: ipykernel in /home/gustavo/anaconda3/lib/python3.11/site-packages (from notebook>=4.4.1->widgetsnbextension~=3.6.6->ipywidgets<8,>=7->skillsnetwork) (6.19.2)\n",
      "Requirement already satisfied: Send2Trash>=1.8.0 in /home/gustavo/anaconda3/lib/python3.11/site-packages (from notebook>=4.4.1->widgetsnbextension~=3.6.6->ipywidgets<8,>=7->skillsnetwork) (1.8.0)\n",
      "Requirement already satisfied: terminado>=0.8.3 in /home/gustavo/anaconda3/lib/python3.11/site-packages (from notebook>=4.4.1->widgetsnbextension~=3.6.6->ipywidgets<8,>=7->skillsnetwork) (0.17.1)\n",
      "Requirement already satisfied: prometheus-client in /home/gustavo/anaconda3/lib/python3.11/site-packages (from notebook>=4.4.1->widgetsnbextension~=3.6.6->ipywidgets<8,>=7->skillsnetwork) (0.14.1)\n",
      "Requirement already satisfied: nbclassic>=0.4.7 in /home/gustavo/anaconda3/lib/python3.11/site-packages (from notebook>=4.4.1->widgetsnbextension~=3.6.6->ipywidgets<8,>=7->skillsnetwork) (0.5.5)\n",
      "Requirement already satisfied: six in /home/gustavo/anaconda3/lib/python3.11/site-packages (from asttokens->stack-data->ipython->skillsnetwork) (1.16.0)\n",
      "Requirement already satisfied: entrypoints in /home/gustavo/anaconda3/lib/python3.11/site-packages (from jupyter-client>=5.3.4->notebook>=4.4.1->widgetsnbextension~=3.6.6->ipywidgets<8,>=7->skillsnetwork) (0.4)\n",
      "Requirement already satisfied: python-dateutil>=2.8.2 in /home/gustavo/anaconda3/lib/python3.11/site-packages (from jupyter-client>=5.3.4->notebook>=4.4.1->widgetsnbextension~=3.6.6->ipywidgets<8,>=7->skillsnetwork) (2.8.2)\n",
      "Requirement already satisfied: platformdirs>=2.5 in /home/gustavo/anaconda3/lib/python3.11/site-packages (from jupyter-core>=4.6.1->notebook>=4.4.1->widgetsnbextension~=3.6.6->ipywidgets<8,>=7->skillsnetwork) (2.5.2)\n"
     ]
    },
    {
     "name": "stdout",
     "output_type": "stream",
     "text": [
      "Requirement already satisfied: jupyter-server>=1.8 in /home/gustavo/anaconda3/lib/python3.11/site-packages (from nbclassic>=0.4.7->notebook>=4.4.1->widgetsnbextension~=3.6.6->ipywidgets<8,>=7->skillsnetwork) (1.23.4)\n",
      "Requirement already satisfied: notebook-shim>=0.1.0 in /home/gustavo/anaconda3/lib/python3.11/site-packages (from nbclassic>=0.4.7->notebook>=4.4.1->widgetsnbextension~=3.6.6->ipywidgets<8,>=7->skillsnetwork) (0.2.2)\n",
      "Requirement already satisfied: beautifulsoup4 in /home/gustavo/anaconda3/lib/python3.11/site-packages (from nbconvert>=5->notebook>=4.4.1->widgetsnbextension~=3.6.6->ipywidgets<8,>=7->skillsnetwork) (4.12.2)\n",
      "Requirement already satisfied: bleach!=5.0.0 in /home/gustavo/anaconda3/lib/python3.11/site-packages (from nbconvert>=5->notebook>=4.4.1->widgetsnbextension~=3.6.6->ipywidgets<8,>=7->skillsnetwork) (6.1.0)\n",
      "Requirement already satisfied: defusedxml in /home/gustavo/anaconda3/lib/python3.11/site-packages (from nbconvert>=5->notebook>=4.4.1->widgetsnbextension~=3.6.6->ipywidgets<8,>=7->skillsnetwork) (0.7.1)\n",
      "Requirement already satisfied: jupyterlab-pygments in /home/gustavo/anaconda3/lib/python3.11/site-packages (from nbconvert>=5->notebook>=4.4.1->widgetsnbextension~=3.6.6->ipywidgets<8,>=7->skillsnetwork) (0.1.2)\n",
      "Requirement already satisfied: markupsafe>=2.0 in /home/gustavo/anaconda3/lib/python3.11/site-packages (from nbconvert>=5->notebook>=4.4.1->widgetsnbextension~=3.6.6->ipywidgets<8,>=7->skillsnetwork) (2.1.1)\n",
      "Requirement already satisfied: mistune<4,>=2.0.3 in /home/gustavo/anaconda3/lib/python3.11/site-packages (from nbconvert>=5->notebook>=4.4.1->widgetsnbextension~=3.6.6->ipywidgets<8,>=7->skillsnetwork) (3.0.2)\n",
      "Requirement already satisfied: nbclient>=0.5.0 in /home/gustavo/anaconda3/lib/python3.11/site-packages (from nbconvert>=5->notebook>=4.4.1->widgetsnbextension~=3.6.6->ipywidgets<8,>=7->skillsnetwork) (0.5.13)\n",
      "Requirement already satisfied: packaging in /home/gustavo/anaconda3/lib/python3.11/site-packages (from nbconvert>=5->notebook>=4.4.1->widgetsnbextension~=3.6.6->ipywidgets<8,>=7->skillsnetwork) (23.0)\n",
      "Requirement already satisfied: pandocfilters>=1.4.1 in /home/gustavo/anaconda3/lib/python3.11/site-packages (from nbconvert>=5->notebook>=4.4.1->widgetsnbextension~=3.6.6->ipywidgets<8,>=7->skillsnetwork) (1.5.0)\n",
      "Requirement already satisfied: tinycss2 in /home/gustavo/anaconda3/lib/python3.11/site-packages (from nbconvert>=5->notebook>=4.4.1->widgetsnbextension~=3.6.6->ipywidgets<8,>=7->skillsnetwork) (1.2.1)\n",
      "Requirement already satisfied: fastjsonschema in /home/gustavo/anaconda3/lib/python3.11/site-packages (from nbformat->notebook>=4.4.1->widgetsnbextension~=3.6.6->ipywidgets<8,>=7->skillsnetwork) (2.16.2)\n",
      "Requirement already satisfied: jsonschema>=2.6 in /home/gustavo/anaconda3/lib/python3.11/site-packages (from nbformat->notebook>=4.4.1->widgetsnbextension~=3.6.6->ipywidgets<8,>=7->skillsnetwork) (4.17.3)\n",
      "Requirement already satisfied: argon2-cffi-bindings in /home/gustavo/anaconda3/lib/python3.11/site-packages (from argon2-cffi->notebook>=4.4.1->widgetsnbextension~=3.6.6->ipywidgets<8,>=7->skillsnetwork) (21.2.0)\n",
      "Requirement already satisfied: debugpy>=1.0 in /home/gustavo/anaconda3/lib/python3.11/site-packages (from ipykernel->notebook>=4.4.1->widgetsnbextension~=3.6.6->ipywidgets<8,>=7->skillsnetwork) (1.6.7)\n",
      "Requirement already satisfied: psutil in /home/gustavo/anaconda3/lib/python3.11/site-packages (from ipykernel->notebook>=4.4.1->widgetsnbextension~=3.6.6->ipywidgets<8,>=7->skillsnetwork) (5.9.0)\n",
      "Requirement already satisfied: webencodings in /home/gustavo/anaconda3/lib/python3.11/site-packages (from bleach!=5.0.0->nbconvert>=5->notebook>=4.4.1->widgetsnbextension~=3.6.6->ipywidgets<8,>=7->skillsnetwork) (0.5.1)\n",
      "Requirement already satisfied: attrs>=17.4.0 in /home/gustavo/anaconda3/lib/python3.11/site-packages (from jsonschema>=2.6->nbformat->notebook>=4.4.1->widgetsnbextension~=3.6.6->ipywidgets<8,>=7->skillsnetwork) (22.1.0)\n",
      "Requirement already satisfied: pyrsistent!=0.17.0,!=0.17.1,!=0.17.2,>=0.14.0 in /home/gustavo/anaconda3/lib/python3.11/site-packages (from jsonschema>=2.6->nbformat->notebook>=4.4.1->widgetsnbextension~=3.6.6->ipywidgets<8,>=7->skillsnetwork) (0.18.0)\n",
      "Requirement already satisfied: anyio<4,>=3.1.0 in /home/gustavo/anaconda3/lib/python3.11/site-packages (from jupyter-server>=1.8->nbclassic>=0.4.7->notebook>=4.4.1->widgetsnbextension~=3.6.6->ipywidgets<8,>=7->skillsnetwork) (3.5.0)\n",
      "Requirement already satisfied: websocket-client in /home/gustavo/anaconda3/lib/python3.11/site-packages (from jupyter-server>=1.8->nbclassic>=0.4.7->notebook>=4.4.1->widgetsnbextension~=3.6.6->ipywidgets<8,>=7->skillsnetwork) (1.6.4)\n",
      "Requirement already satisfied: cffi>=1.0.1 in /home/gustavo/anaconda3/lib/python3.11/site-packages (from argon2-cffi-bindings->argon2-cffi->notebook>=4.4.1->widgetsnbextension~=3.6.6->ipywidgets<8,>=7->skillsnetwork) (1.15.1)\n",
      "Requirement already satisfied: soupsieve>1.2 in /home/gustavo/anaconda3/lib/python3.11/site-packages (from beautifulsoup4->nbconvert>=5->notebook>=4.4.1->widgetsnbextension~=3.6.6->ipywidgets<8,>=7->skillsnetwork) (2.4)\n",
      "Requirement already satisfied: sniffio>=1.1 in /home/gustavo/anaconda3/lib/python3.11/site-packages (from anyio<4,>=3.1.0->jupyter-server>=1.8->nbclassic>=0.4.7->notebook>=4.4.1->widgetsnbextension~=3.6.6->ipywidgets<8,>=7->skillsnetwork) (1.2.0)\n",
      "Requirement already satisfied: pycparser in /home/gustavo/anaconda3/lib/python3.11/site-packages (from cffi>=1.0.1->argon2-cffi-bindings->argon2-cffi->notebook>=4.4.1->widgetsnbextension~=3.6.6->ipywidgets<8,>=7->skillsnetwork) (2.21)\n"
     ]
    }
   ],
   "source": [
    "!pip install snapml\n",
    "!pip install skillsnetwork"
   ]
  },
  {
   "cell_type": "code",
   "execution_count": 3,
   "id": "aa9c0515",
   "metadata": {},
   "outputs": [],
   "source": [
    "# Import the libraries\n",
    "import warnings\n",
    "warnings.filterwarnings('ignore')\n",
    "\n",
    "# from __future__ import print_function\n",
    "import numpy as np\n",
    "import pandas as pd\n",
    "import matplotlib.pyplot as plt\n",
    "%matplotlib inline\n",
    "\n",
    "from sklearn.model_selection import train_test_split\n",
    "from sklearn.preprocessing import normalize, StandardScaler\n",
    "from sklearn.utils.class_weight import compute_sample_weight\n",
    "from sklearn.metrics import roc_auc_score, hinge_loss\n",
    "import time\n",
    "import gc, sys\n",
    "from snapml import DecisionTreeClassifier, SupportVectorMachine"
   ]
  },
  {
   "cell_type": "code",
   "execution_count": 4,
   "id": "e1b75846",
   "metadata": {},
   "outputs": [
    {
     "data": {
      "application/vnd.jupyter.widget-view+json": {
       "model_id": "fbb1f93d9cf0461397c0fbbad2856992",
       "version_major": 2,
       "version_minor": 0
      },
      "text/plain": [
       "Downloading creditcard.tgz:   0%|          | 0/68787106 [00:00<?, ?it/s]"
      ]
     },
     "metadata": {},
     "output_type": "display_data"
    },
    {
     "data": {
      "application/vnd.jupyter.widget-view+json": {
       "model_id": "d14c2f1289bc480e96ffb9439871bd35",
       "version_major": 2,
       "version_minor": 0
      },
      "text/plain": [
       "  0%|          | 0/2 [00:00<?, ?it/s]"
      ]
     },
     "metadata": {},
     "output_type": "display_data"
    },
    {
     "name": "stdout",
     "output_type": "stream",
     "text": [
      "Saved to '.'\n"
     ]
    }
   ],
   "source": [
    "import skillsnetwork\n",
    "await skillsnetwork.prepare(\"https://cf-courses-data.s3.us.cloud-object-storage.appdomain.cloud/IBM-GPXX0RHPEN/data/creditcard.tgz\", overwrite=True)"
   ]
  },
  {
   "cell_type": "code",
   "execution_count": 5,
   "id": "f99d031e",
   "metadata": {},
   "outputs": [
    {
     "name": "stdout",
     "output_type": "stream",
     "text": [
      "Existem 284807 observações no conjunto de dados de fraude de cartão de crédito.\n",
      "Existem 31 variáveis no conjunto de dados.\n"
     ]
    },
    {
     "data": {
      "text/html": [
       "<div>\n",
       "<style scoped>\n",
       "    .dataframe tbody tr th:only-of-type {\n",
       "        vertical-align: middle;\n",
       "    }\n",
       "\n",
       "    .dataframe tbody tr th {\n",
       "        vertical-align: top;\n",
       "    }\n",
       "\n",
       "    .dataframe thead th {\n",
       "        text-align: right;\n",
       "    }\n",
       "</style>\n",
       "<table border=\"1\" class=\"dataframe\">\n",
       "  <thead>\n",
       "    <tr style=\"text-align: right;\">\n",
       "      <th></th>\n",
       "      <th>Time</th>\n",
       "      <th>V1</th>\n",
       "      <th>V2</th>\n",
       "      <th>V3</th>\n",
       "      <th>V4</th>\n",
       "      <th>V5</th>\n",
       "      <th>V6</th>\n",
       "      <th>V7</th>\n",
       "      <th>V8</th>\n",
       "      <th>V9</th>\n",
       "      <th>...</th>\n",
       "      <th>V21</th>\n",
       "      <th>V22</th>\n",
       "      <th>V23</th>\n",
       "      <th>V24</th>\n",
       "      <th>V25</th>\n",
       "      <th>V26</th>\n",
       "      <th>V27</th>\n",
       "      <th>V28</th>\n",
       "      <th>Amount</th>\n",
       "      <th>Class</th>\n",
       "    </tr>\n",
       "  </thead>\n",
       "  <tbody>\n",
       "    <tr>\n",
       "      <th>0</th>\n",
       "      <td>0.0</td>\n",
       "      <td>-1.359807</td>\n",
       "      <td>-0.072781</td>\n",
       "      <td>2.536347</td>\n",
       "      <td>1.378155</td>\n",
       "      <td>-0.338321</td>\n",
       "      <td>0.462388</td>\n",
       "      <td>0.239599</td>\n",
       "      <td>0.098698</td>\n",
       "      <td>0.363787</td>\n",
       "      <td>...</td>\n",
       "      <td>-0.018307</td>\n",
       "      <td>0.277838</td>\n",
       "      <td>-0.110474</td>\n",
       "      <td>0.066928</td>\n",
       "      <td>0.128539</td>\n",
       "      <td>-0.189115</td>\n",
       "      <td>0.133558</td>\n",
       "      <td>-0.021053</td>\n",
       "      <td>149.62</td>\n",
       "      <td>0</td>\n",
       "    </tr>\n",
       "    <tr>\n",
       "      <th>1</th>\n",
       "      <td>0.0</td>\n",
       "      <td>1.191857</td>\n",
       "      <td>0.266151</td>\n",
       "      <td>0.166480</td>\n",
       "      <td>0.448154</td>\n",
       "      <td>0.060018</td>\n",
       "      <td>-0.082361</td>\n",
       "      <td>-0.078803</td>\n",
       "      <td>0.085102</td>\n",
       "      <td>-0.255425</td>\n",
       "      <td>...</td>\n",
       "      <td>-0.225775</td>\n",
       "      <td>-0.638672</td>\n",
       "      <td>0.101288</td>\n",
       "      <td>-0.339846</td>\n",
       "      <td>0.167170</td>\n",
       "      <td>0.125895</td>\n",
       "      <td>-0.008983</td>\n",
       "      <td>0.014724</td>\n",
       "      <td>2.69</td>\n",
       "      <td>0</td>\n",
       "    </tr>\n",
       "    <tr>\n",
       "      <th>2</th>\n",
       "      <td>1.0</td>\n",
       "      <td>-1.358354</td>\n",
       "      <td>-1.340163</td>\n",
       "      <td>1.773209</td>\n",
       "      <td>0.379780</td>\n",
       "      <td>-0.503198</td>\n",
       "      <td>1.800499</td>\n",
       "      <td>0.791461</td>\n",
       "      <td>0.247676</td>\n",
       "      <td>-1.514654</td>\n",
       "      <td>...</td>\n",
       "      <td>0.247998</td>\n",
       "      <td>0.771679</td>\n",
       "      <td>0.909412</td>\n",
       "      <td>-0.689281</td>\n",
       "      <td>-0.327642</td>\n",
       "      <td>-0.139097</td>\n",
       "      <td>-0.055353</td>\n",
       "      <td>-0.059752</td>\n",
       "      <td>378.66</td>\n",
       "      <td>0</td>\n",
       "    </tr>\n",
       "    <tr>\n",
       "      <th>3</th>\n",
       "      <td>1.0</td>\n",
       "      <td>-0.966272</td>\n",
       "      <td>-0.185226</td>\n",
       "      <td>1.792993</td>\n",
       "      <td>-0.863291</td>\n",
       "      <td>-0.010309</td>\n",
       "      <td>1.247203</td>\n",
       "      <td>0.237609</td>\n",
       "      <td>0.377436</td>\n",
       "      <td>-1.387024</td>\n",
       "      <td>...</td>\n",
       "      <td>-0.108300</td>\n",
       "      <td>0.005274</td>\n",
       "      <td>-0.190321</td>\n",
       "      <td>-1.175575</td>\n",
       "      <td>0.647376</td>\n",
       "      <td>-0.221929</td>\n",
       "      <td>0.062723</td>\n",
       "      <td>0.061458</td>\n",
       "      <td>123.50</td>\n",
       "      <td>0</td>\n",
       "    </tr>\n",
       "    <tr>\n",
       "      <th>4</th>\n",
       "      <td>2.0</td>\n",
       "      <td>-1.158233</td>\n",
       "      <td>0.877737</td>\n",
       "      <td>1.548718</td>\n",
       "      <td>0.403034</td>\n",
       "      <td>-0.407193</td>\n",
       "      <td>0.095921</td>\n",
       "      <td>0.592941</td>\n",
       "      <td>-0.270533</td>\n",
       "      <td>0.817739</td>\n",
       "      <td>...</td>\n",
       "      <td>-0.009431</td>\n",
       "      <td>0.798278</td>\n",
       "      <td>-0.137458</td>\n",
       "      <td>0.141267</td>\n",
       "      <td>-0.206010</td>\n",
       "      <td>0.502292</td>\n",
       "      <td>0.219422</td>\n",
       "      <td>0.215153</td>\n",
       "      <td>69.99</td>\n",
       "      <td>0</td>\n",
       "    </tr>\n",
       "  </tbody>\n",
       "</table>\n",
       "<p>5 rows × 31 columns</p>\n",
       "</div>"
      ],
      "text/plain": [
       "   Time        V1        V2        V3        V4        V5        V6        V7  \\\n",
       "0   0.0 -1.359807 -0.072781  2.536347  1.378155 -0.338321  0.462388  0.239599   \n",
       "1   0.0  1.191857  0.266151  0.166480  0.448154  0.060018 -0.082361 -0.078803   \n",
       "2   1.0 -1.358354 -1.340163  1.773209  0.379780 -0.503198  1.800499  0.791461   \n",
       "3   1.0 -0.966272 -0.185226  1.792993 -0.863291 -0.010309  1.247203  0.237609   \n",
       "4   2.0 -1.158233  0.877737  1.548718  0.403034 -0.407193  0.095921  0.592941   \n",
       "\n",
       "         V8        V9  ...       V21       V22       V23       V24       V25  \\\n",
       "0  0.098698  0.363787  ... -0.018307  0.277838 -0.110474  0.066928  0.128539   \n",
       "1  0.085102 -0.255425  ... -0.225775 -0.638672  0.101288 -0.339846  0.167170   \n",
       "2  0.247676 -1.514654  ...  0.247998  0.771679  0.909412 -0.689281 -0.327642   \n",
       "3  0.377436 -1.387024  ... -0.108300  0.005274 -0.190321 -1.175575  0.647376   \n",
       "4 -0.270533  0.817739  ... -0.009431  0.798278 -0.137458  0.141267 -0.206010   \n",
       "\n",
       "        V26       V27       V28  Amount  Class  \n",
       "0 -0.189115  0.133558 -0.021053  149.62      0  \n",
       "1  0.125895 -0.008983  0.014724    2.69      0  \n",
       "2 -0.139097 -0.055353 -0.059752  378.66      0  \n",
       "3 -0.221929  0.062723  0.061458  123.50      0  \n",
       "4  0.502292  0.219422  0.215153   69.99      0  \n",
       "\n",
       "[5 rows x 31 columns]"
      ]
     },
     "execution_count": 5,
     "metadata": {},
     "output_type": "execute_result"
    }
   ],
   "source": [
    "# Carregamento dos dados\n",
    "raw_data = pd.read_csv('creditcard.csv')\n",
    "print(f\"Existem {len(raw_data)} observações no conjunto de dados de fraude de cartão de crédito.\")\n",
    "print(f\"Existem {len(raw_data.columns)} variáveis no conjunto de dados.\")\n",
    "\n",
    "# Exibição das primeiras linhas do dataset\n",
    "raw_data.head()"
   ]
  },
  {
   "cell_type": "code",
   "execution_count": 6,
   "id": "fb3f02a3",
   "metadata": {},
   "outputs": [
    {
     "name": "stdout",
     "output_type": "stream",
     "text": [
      "Existem 2848070 observações no conjunto de dados inflacionado de fraude de cartão de crédito.\n",
      "Existem 31 variáveis no conjunto de dados.\n"
     ]
    },
    {
     "data": {
      "text/html": [
       "<div>\n",
       "<style scoped>\n",
       "    .dataframe tbody tr th:only-of-type {\n",
       "        vertical-align: middle;\n",
       "    }\n",
       "\n",
       "    .dataframe tbody tr th {\n",
       "        vertical-align: top;\n",
       "    }\n",
       "\n",
       "    .dataframe thead th {\n",
       "        text-align: right;\n",
       "    }\n",
       "</style>\n",
       "<table border=\"1\" class=\"dataframe\">\n",
       "  <thead>\n",
       "    <tr style=\"text-align: right;\">\n",
       "      <th></th>\n",
       "      <th>Time</th>\n",
       "      <th>V1</th>\n",
       "      <th>V2</th>\n",
       "      <th>V3</th>\n",
       "      <th>V4</th>\n",
       "      <th>V5</th>\n",
       "      <th>V6</th>\n",
       "      <th>V7</th>\n",
       "      <th>V8</th>\n",
       "      <th>V9</th>\n",
       "      <th>...</th>\n",
       "      <th>V21</th>\n",
       "      <th>V22</th>\n",
       "      <th>V23</th>\n",
       "      <th>V24</th>\n",
       "      <th>V25</th>\n",
       "      <th>V26</th>\n",
       "      <th>V27</th>\n",
       "      <th>V28</th>\n",
       "      <th>Amount</th>\n",
       "      <th>Class</th>\n",
       "    </tr>\n",
       "  </thead>\n",
       "  <tbody>\n",
       "    <tr>\n",
       "      <th>0</th>\n",
       "      <td>0.0</td>\n",
       "      <td>-1.359807</td>\n",
       "      <td>-0.072781</td>\n",
       "      <td>2.536347</td>\n",
       "      <td>1.378155</td>\n",
       "      <td>-0.338321</td>\n",
       "      <td>0.462388</td>\n",
       "      <td>0.239599</td>\n",
       "      <td>0.098698</td>\n",
       "      <td>0.363787</td>\n",
       "      <td>...</td>\n",
       "      <td>-0.018307</td>\n",
       "      <td>0.277838</td>\n",
       "      <td>-0.110474</td>\n",
       "      <td>0.066928</td>\n",
       "      <td>0.128539</td>\n",
       "      <td>-0.189115</td>\n",
       "      <td>0.133558</td>\n",
       "      <td>-0.021053</td>\n",
       "      <td>149.62</td>\n",
       "      <td>0.0</td>\n",
       "    </tr>\n",
       "    <tr>\n",
       "      <th>1</th>\n",
       "      <td>0.0</td>\n",
       "      <td>-1.359807</td>\n",
       "      <td>-0.072781</td>\n",
       "      <td>2.536347</td>\n",
       "      <td>1.378155</td>\n",
       "      <td>-0.338321</td>\n",
       "      <td>0.462388</td>\n",
       "      <td>0.239599</td>\n",
       "      <td>0.098698</td>\n",
       "      <td>0.363787</td>\n",
       "      <td>...</td>\n",
       "      <td>-0.018307</td>\n",
       "      <td>0.277838</td>\n",
       "      <td>-0.110474</td>\n",
       "      <td>0.066928</td>\n",
       "      <td>0.128539</td>\n",
       "      <td>-0.189115</td>\n",
       "      <td>0.133558</td>\n",
       "      <td>-0.021053</td>\n",
       "      <td>149.62</td>\n",
       "      <td>0.0</td>\n",
       "    </tr>\n",
       "    <tr>\n",
       "      <th>2</th>\n",
       "      <td>0.0</td>\n",
       "      <td>-1.359807</td>\n",
       "      <td>-0.072781</td>\n",
       "      <td>2.536347</td>\n",
       "      <td>1.378155</td>\n",
       "      <td>-0.338321</td>\n",
       "      <td>0.462388</td>\n",
       "      <td>0.239599</td>\n",
       "      <td>0.098698</td>\n",
       "      <td>0.363787</td>\n",
       "      <td>...</td>\n",
       "      <td>-0.018307</td>\n",
       "      <td>0.277838</td>\n",
       "      <td>-0.110474</td>\n",
       "      <td>0.066928</td>\n",
       "      <td>0.128539</td>\n",
       "      <td>-0.189115</td>\n",
       "      <td>0.133558</td>\n",
       "      <td>-0.021053</td>\n",
       "      <td>149.62</td>\n",
       "      <td>0.0</td>\n",
       "    </tr>\n",
       "    <tr>\n",
       "      <th>3</th>\n",
       "      <td>0.0</td>\n",
       "      <td>-1.359807</td>\n",
       "      <td>-0.072781</td>\n",
       "      <td>2.536347</td>\n",
       "      <td>1.378155</td>\n",
       "      <td>-0.338321</td>\n",
       "      <td>0.462388</td>\n",
       "      <td>0.239599</td>\n",
       "      <td>0.098698</td>\n",
       "      <td>0.363787</td>\n",
       "      <td>...</td>\n",
       "      <td>-0.018307</td>\n",
       "      <td>0.277838</td>\n",
       "      <td>-0.110474</td>\n",
       "      <td>0.066928</td>\n",
       "      <td>0.128539</td>\n",
       "      <td>-0.189115</td>\n",
       "      <td>0.133558</td>\n",
       "      <td>-0.021053</td>\n",
       "      <td>149.62</td>\n",
       "      <td>0.0</td>\n",
       "    </tr>\n",
       "    <tr>\n",
       "      <th>4</th>\n",
       "      <td>0.0</td>\n",
       "      <td>-1.359807</td>\n",
       "      <td>-0.072781</td>\n",
       "      <td>2.536347</td>\n",
       "      <td>1.378155</td>\n",
       "      <td>-0.338321</td>\n",
       "      <td>0.462388</td>\n",
       "      <td>0.239599</td>\n",
       "      <td>0.098698</td>\n",
       "      <td>0.363787</td>\n",
       "      <td>...</td>\n",
       "      <td>-0.018307</td>\n",
       "      <td>0.277838</td>\n",
       "      <td>-0.110474</td>\n",
       "      <td>0.066928</td>\n",
       "      <td>0.128539</td>\n",
       "      <td>-0.189115</td>\n",
       "      <td>0.133558</td>\n",
       "      <td>-0.021053</td>\n",
       "      <td>149.62</td>\n",
       "      <td>0.0</td>\n",
       "    </tr>\n",
       "  </tbody>\n",
       "</table>\n",
       "<p>5 rows × 31 columns</p>\n",
       "</div>"
      ],
      "text/plain": [
       "   Time        V1        V2        V3        V4        V5        V6        V7  \\\n",
       "0   0.0 -1.359807 -0.072781  2.536347  1.378155 -0.338321  0.462388  0.239599   \n",
       "1   0.0 -1.359807 -0.072781  2.536347  1.378155 -0.338321  0.462388  0.239599   \n",
       "2   0.0 -1.359807 -0.072781  2.536347  1.378155 -0.338321  0.462388  0.239599   \n",
       "3   0.0 -1.359807 -0.072781  2.536347  1.378155 -0.338321  0.462388  0.239599   \n",
       "4   0.0 -1.359807 -0.072781  2.536347  1.378155 -0.338321  0.462388  0.239599   \n",
       "\n",
       "         V8        V9  ...       V21       V22       V23       V24       V25  \\\n",
       "0  0.098698  0.363787  ... -0.018307  0.277838 -0.110474  0.066928  0.128539   \n",
       "1  0.098698  0.363787  ... -0.018307  0.277838 -0.110474  0.066928  0.128539   \n",
       "2  0.098698  0.363787  ... -0.018307  0.277838 -0.110474  0.066928  0.128539   \n",
       "3  0.098698  0.363787  ... -0.018307  0.277838 -0.110474  0.066928  0.128539   \n",
       "4  0.098698  0.363787  ... -0.018307  0.277838 -0.110474  0.066928  0.128539   \n",
       "\n",
       "        V26       V27       V28  Amount  Class  \n",
       "0 -0.189115  0.133558 -0.021053  149.62    0.0  \n",
       "1 -0.189115  0.133558 -0.021053  149.62    0.0  \n",
       "2 -0.189115  0.133558 -0.021053  149.62    0.0  \n",
       "3 -0.189115  0.133558 -0.021053  149.62    0.0  \n",
       "4 -0.189115  0.133558 -0.021053  149.62    0.0  \n",
       "\n",
       "[5 rows x 31 columns]"
      ]
     },
     "execution_count": 6,
     "metadata": {},
     "output_type": "execute_result"
    }
   ],
   "source": [
    "n_replicas = 10\n",
    "\n",
    "# inflate the original dataset\n",
    "big_raw_data = pd.DataFrame(np.repeat(raw_data.values, n_replicas, axis=0), columns=raw_data.columns)\n",
    "\n",
    "print(f\"Existem {len(big_raw_data)} observações no conjunto de dados inflacionado de fraude de cartão de crédito.\")\n",
    "print(f\"Existem {len(big_raw_data.columns)} variáveis no conjunto de dados.\")\n",
    "\n",
    "# Exibição das primeiras linhas do novo dataset\n",
    "big_raw_data.head()"
   ]
  },
  {
   "cell_type": "code",
   "execution_count": 7,
   "id": "202f8ae3",
   "metadata": {
    "scrolled": true
   },
   "outputs": [
    {
     "data": {
      "image/png": "[encoded data removed]",
      "text/plain": [
       "<Figure size 640x480 with 1 Axes>"
      ]
     },
     "metadata": {},
     "output_type": "display_data"
    }
   ],
   "source": [
    "# Obter o conjunto de classes distintas\n",
    "labels = big_raw_data.Class.unique()\n",
    "\n",
    "# Obter a contagem de cada classe\n",
    "sizes = big_raw_data.Class.value_counts().values\n",
    "\n",
    "# Plotar a contagem de valores da variável alvo\n",
    "fig, ax = plt.subplots()\n",
    "ax.pie(sizes, labels=labels, autopct='%1.3f%%')\n",
    "ax.set_title('Contagem de Valores da Variável Alvo')\n",
    "plt.show()"
   ]
  },
  {
   "cell_type": "code",
   "execution_count": 8,
   "id": "f5a51f4e",
   "metadata": {},
   "outputs": [
    {
     "data": {
      "image/png": "[encoded data removed]",
      "text/plain": [
       "<Figure size 640x480 with 1 Axes>"
      ]
     },
     "metadata": {},
     "output_type": "display_data"
    },
    {
     "name": "stdout",
     "output_type": "stream",
     "text": [
      "O valor mínimo é  0.0\n",
      "O valor máximo é  25691.16\n",
      "O valor mínimo do valor é 90% das transações com valor menor ou igual a  203.0\n"
     ]
    }
   ],
   "source": [
    "plt.hist(big_raw_data.Amount.values, 6, histtype='bar', facecolor='g')\n",
    "plt.show()\n",
    "\n",
    "print(\"O valor mínimo é \", np.min(big_raw_data.Amount.values))\n",
    "print(\"O valor máximo é \", np.max(big_raw_data.Amount.values))\n",
    "print(\"O valor mínimo do valor é 90% das transações com valor menor ou igual a \", np.percentile(raw_data.Amount.values, 90))"
   ]
  },
  {
   "cell_type": "code",
   "execution_count": 9,
   "id": "cf1de29a",
   "metadata": {},
   "outputs": [
    {
     "name": "stdout",
     "output_type": "stream",
     "text": [
      "X.shape= (2848070, 29) y.shape= (2848070,)\n"
     ]
    }
   ],
   "source": [
    "# Normalizar as variáveis\n",
    "big_raw_data.iloc[:, 1:30] = StandardScaler().fit_transform(big_raw_data.iloc[:, 1:30])\n",
    "data_matrix = big_raw_data.values\n",
    "\n",
    "#X: matriz de características (excluindo a variável Time do conjunto de dados)\n",
    "X = data_matrix[:, 1:30]\n",
    "\n",
    "# y: vetor de rótulos\n",
    "y = data_matrix[:, 30]\n",
    "\n",
    "# Normalização dos dados\n",
    "X = normalize(X, norm=\"l1\")\n",
    "\n",
    "# Exibir a forma da matriz de características e do vetor de rótulos\n",
    "print('X.shape=', X.shape, 'y.shape=', y.shape)"
   ]
  },
  {
   "cell_type": "code",
   "execution_count": 10,
   "id": "f55c80a4",
   "metadata": {},
   "outputs": [
    {
     "data": {
      "text/plain": [
       "3149"
      ]
     },
     "execution_count": 10,
     "metadata": {},
     "output_type": "execute_result"
    }
   ],
   "source": [
    "# Liberação de memória\n",
    "del raw_data\n",
    "del big_raw_data\n",
    "gc.collect()"
   ]
  },
  {
   "cell_type": "code",
   "execution_count": 11,
   "id": "dd9fee68",
   "metadata": {},
   "outputs": [
    {
     "name": "stdout",
     "output_type": "stream",
     "text": [
      "X_train.shape= (1993649, 29) Y_train.shape= (1993649,)\n",
      "X_test.shape= (854421, 29) Y_test.shape= (854421,)\n"
     ]
    }
   ],
   "source": [
    "# Divisão dos dados em conjunto de treinamento e teste\n",
    "X_train, X_test, y_train, y_test = train_test_split(X, y, test_size=0.3, random_state=42, stratify=y)       \n",
    "print('X_train.shape=', X_train.shape, 'Y_train.shape=', y_train.shape)\n",
    "print('X_test.shape=', X_test.shape, 'Y_test.shape=', y_test.shape)"
   ]
  },
  {
   "cell_type": "code",
   "execution_count": 12,
   "id": "f3514646",
   "metadata": {},
   "outputs": [],
   "source": [
    "# Cálculo de pesos amostrais balanceados\n",
    "w_train = compute_sample_weight('balanced', y_train)"
   ]
  },
  {
   "cell_type": "code",
   "execution_count": 13,
   "id": "0db2d7f4",
   "metadata": {},
   "outputs": [
    {
     "name": "stdout",
     "output_type": "stream",
     "text": [
      "[Scikit-Learn] Tempo de treinamento (s):  7.16431\n"
     ]
    }
   ],
   "source": [
    "# Treinamento do modelo Decision Tree usando Scikit-Learn\n",
    "from sklearn.tree import DecisionTreeClassifier as SklearnDecisionTreeClassifier\n",
    "sklearn_dt = DecisionTreeClassifier(max_depth=4, random_state=35)\n",
    "t0 = time.time()\n",
    "sklearn_dt.fit(X_train, y_train, sample_weight=w_train)\n",
    "sklearn_time = time.time()-t0\n",
    "print(\"[Scikit-Learn] Tempo de treinamento (s):  {0:.5f}\".format(sklearn_time))"
   ]
  },
  {
   "cell_type": "code",
   "execution_count": 14,
   "id": "46023aa7",
   "metadata": {},
   "outputs": [
    {
     "name": "stdout",
     "output_type": "stream",
     "text": [
      "[Snap ML] Tempo de treinamento (s):  3.02049\n"
     ]
    }
   ],
   "source": [
    "# Treinamento do modelo Decision Tree usando Snap ML\n",
    "snapml_dt = DecisionTreeClassifier(max_depth=4, random_state=45, n_jobs=4)\n",
    "t0 = time.time()\n",
    "snapml_dt.fit(X_train, y_train, sample_weight=w_train)\n",
    "snapml_time = time.time() - t0\n",
    "print(\"[Snap ML] Tempo de treinamento (s):  {0:.5f}\".format(snapml_time))"
   ]
  },
  {
   "cell_type": "code",
   "execution_count": 15,
   "id": "b1ad522d",
   "metadata": {},
   "outputs": [
    {
     "name": "stdout",
     "output_type": "stream",
     "text": [
      "[Decision Tree Classifier] Snap ML vs. Scikit-Learn speedup : 2.37x \n"
     ]
    }
   ],
   "source": [
    "# Comparação de velocidade de treinamento entre Snap ML e Scikit-Learn\n",
    "training_speedup = sklearn_time / snapml_time\n",
    "print('[Decision Tree Classifier] Snap ML vs. Scikit-Learn speedup : {0:.2f}x '.format(training_speedup))"
   ]
  },
  {
   "cell_type": "code",
   "execution_count": 16,
   "id": "0a0a0826",
   "metadata": {},
   "outputs": [
    {
     "name": "stdout",
     "output_type": "stream",
     "text": [
      "[Scikit-Learn] Pontuação ROC-AUC: 0.966\n",
      "[Snap ML] Pontuação ROC-AUC: 0.966\n"
     ]
    }
   ],
   "source": [
    "# Avaliação do modelo Decision Tree\n",
    "sklearn_pred = sklearn_dt.predict_proba(X_test)[:, 1]\n",
    "snapml_pred = snapml_dt.predict_proba(X_test)[:, 1]\n",
    "sklearn_roc_auc = roc_auc_score(y_test, sklearn_pred)\n",
    "print('[Scikit-Learn] Pontuação ROC-AUC: {0:.3f}'.format(sklearn_roc_auc))\n",
    "\n",
    "snapml_roc_auc = roc_auc_score(y_test, snapml_pred)\n",
    "print('[Snap ML] Pontuação ROC-AUC: {0:.3f}'.format(snapml_roc_auc))"
   ]
  },
  {
   "cell_type": "code",
   "execution_count": 17,
   "id": "d736e0d0",
   "metadata": {},
   "outputs": [
    {
     "name": "stdout",
     "output_type": "stream",
     "text": [
      "[Scikit-Learn] Tempo de treinamento (s):  61.37\n"
     ]
    }
   ],
   "source": [
    "# Treinamento do modelo SVM usando Scikit-Learn\n",
    "from sklearn.svm import LinearSVC\n",
    "sklearn_svm = LinearSVC(class_weight='balanced', random_state=31, loss=\"hinge\", fit_intercept=False)\n",
    "t0 = time.time()\n",
    "sklearn_svm.fit(X_train, y_train)\n",
    "sklearn_time = time.time() - t0\n",
    "print(\"[Scikit-Learn] Tempo de treinamento (s):  {0:.2f}\".format(sklearn_time))"
   ]
  },
  {
   "cell_type": "code",
   "execution_count": 18,
   "id": "a3d4d272",
   "metadata": {},
   "outputs": [
    {
     "name": "stdout",
     "output_type": "stream",
     "text": [
      "[Snap ML] Tempo de treinamento (s):  6.53\n"
     ]
    }
   ],
   "source": [
    "# Treinamento do modelo SVM usando Snap ML\n",
    "snapml_svm = SupportVectorMachine(class_weight='balanced', random_state=25, n_jobs=4, fit_intercept=False)\n",
    "t0 = time.time()\n",
    "snapml_svm.fit(X_train, y_train)\n",
    "snapml_time = time.time() - t0\n",
    "print(\"[Snap ML] Tempo de treinamento (s):  {0:.2f}\".format(snapml_time))\n"
   ]
  },
  {
   "cell_type": "code",
   "execution_count": 19,
   "id": "a47b88a5",
   "metadata": {},
   "outputs": [
    {
     "name": "stdout",
     "output_type": "stream",
     "text": [
      "[Support Vector Machine] Snap ML vs. Scikit-Learn speedup : 9.40x \n"
     ]
    }
   ],
   "source": [
    "# Comparação de velocidade de treinamento entre Snap ML e Scikit-Learn\n",
    "training_speedup = sklearn_time / snapml_time\n",
    "print('[Support Vector Machine] Snap ML vs. Scikit-Learn speedup : {0:.2f}x '.format(training_speedup))"
   ]
  },
  {
   "cell_type": "code",
   "execution_count": 20,
   "id": "2b60113c",
   "metadata": {},
   "outputs": [
    {
     "name": "stdout",
     "output_type": "stream",
     "text": [
      "[Scikit-Learn] Pontuação ROC-AUC:   0.984\n",
      "[Snap ML] Pontuação ROC-AUC:   0.985\n"
     ]
    }
   ],
   "source": [
    "# Avaliação do modelo SVM\n",
    "sklearn_pred = sklearn_svm.decision_function(X_test)\n",
    "snapml_pred = snapml_svm.decision_function(X_test)\n",
    "acc_sklearn = roc_auc_score(y_test, sklearn_pred)\n",
    "print(\"[Scikit-Learn] Pontuação ROC-AUC:   {0:.3f}\".format(acc_sklearn))\n",
    "\n",
    "acc_snapml = roc_auc_score(y_test, snapml_pred)\n",
    "print(\"[Snap ML] Pontuação ROC-AUC:   {0:.3f}\".format(acc_snapml))"
   ]
  },
  {
   "cell_type": "code",
   "execution_count": 23,
   "id": "45f9c3bf",
   "metadata": {},
   "outputs": [
    {
     "name": "stdout",
     "output_type": "stream",
     "text": [
      "[Scikit-Learn] Perda de Hinge:   0.234\n",
      "[Snap ML] Perda de Hinge:   0.228\n"
     ]
    }
   ],
   "source": [
    "# Cálculo da perda de hinge\n",
    "loss_sklearn = hinge_loss(y_test, sklearn_pred)\n",
    "print(\"[Scikit-Learn] Perda de Hinge:   {0:.3f}\".format(loss_sklearn))\n",
    "\n",
    "loss_snapml = hinge_loss(y_test, snapml_pred)\n",
    "print(\"[Snap ML] Perda de Hinge:   {0:.3f}\".format(loss_snapml))"
   ]
  }
 ],
 "metadata": {
  "kernelspec": {
   "display_name": "Python 3 (ipykernel)",
   "language": "python",
   "name": "python3"
  },
  "language_info": {
   "codemirror_mode": {
    "name": "ipython",
    "version": 3
   },
   "file_extension": ".py",
   "mimetype": "text/x-python",
   "name": "python",
   "nbconvert_exporter": "python",
   "pygments_lexer": "ipython3",
   "version": "3.11.4"
  }
 },
 "nbformat": 4,
 "nbformat_minor": 5
}
